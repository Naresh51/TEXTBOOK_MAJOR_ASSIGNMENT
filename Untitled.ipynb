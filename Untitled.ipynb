{
 "cells": [
  {
   "cell_type": "code",
   "execution_count": 1,
   "id": "52dd20c8",
   "metadata": {},
   "outputs": [
    {
     "name": "stdout",
     "output_type": "stream",
     "text": [
      "<class 'int'>\n",
      "<class 'str'>\n"
     ]
    }
   ],
   "source": [
    "# question 1\n",
    "x=5\n",
    "y='John'\n",
    "print(type(x))\n",
    "print(type(y))"
   ]
  },
  {
   "cell_type": "code",
   "execution_count": 2,
   "id": "b16f91b9",
   "metadata": {},
   "outputs": [
    {
     "ename": "SyntaxError",
     "evalue": "invalid syntax (3755799891.py, line 3)",
     "output_type": "error",
     "traceback": [
      "\u001b[1;36m  File \u001b[1;32m\"C:\\Users\\hp\\AppData\\Local\\Temp\\ipykernel_5432\\3755799891.py\"\u001b[1;36m, line \u001b[1;32m3\u001b[0m\n\u001b[1;33m    3a=10\u001b[0m\n\u001b[1;37m     ^\u001b[0m\n\u001b[1;31mSyntaxError\u001b[0m\u001b[1;31m:\u001b[0m invalid syntax\n"
     ]
    }
   ],
   "source": [
    "#question 2\n",
    "#(i)\n",
    "3a=10\n",
    "print(3a)"
   ]
  },
  {
   "cell_type": "code",
   "execution_count": null,
   "id": "f26ed1b8",
   "metadata": {},
   "outputs": [],
   "source": [
    "#(ii)\n",
    "@abc=10\n",
    "print(@abc)"
   ]
  },
  {
   "cell_type": "code",
   "execution_count": null,
   "id": "6c55091e",
   "metadata": {},
   "outputs": [],
   "source": [
    "#(iii)\n",
    "a100=100\n",
    "print(a100)"
   ]
  },
  {
   "cell_type": "code",
   "execution_count": null,
   "id": "e600eb03",
   "metadata": {},
   "outputs": [],
   "source": [
    "#(iv)\n",
    "_a984=100\n",
    "print(_a984)"
   ]
  },
  {
   "cell_type": "code",
   "execution_count": null,
   "id": "396a56fb",
   "metadata": {},
   "outputs": [],
   "source": [
    "#(v)\n",
    "a9967$=100\n",
    "print(a9967$)"
   ]
  },
  {
   "cell_type": "code",
   "execution_count": null,
   "id": "a98eb936",
   "metadata": {},
   "outputs": [],
   "source": [
    "#(vi)\n",
    "xyz-2=100\n",
    "print(xyz-2)"
   ]
  },
  {
   "cell_type": "code",
   "execution_count": 3,
   "id": "072a2c7a",
   "metadata": {},
   "outputs": [
    {
     "name": "stdout",
     "output_type": "stream",
     "text": [
      "3 is exists\n"
     ]
    }
   ],
   "source": [
    "#question 3\n",
    "test_list=[1,6,3,5,3,4]\n",
    "#(i) check 3 is exists or not \n",
    "i=3\n",
    "if i in test_list:\n",
    "    print(\"3 is exists\")\n",
    "else:\n",
    "    print(\"3 is not exists\")"
   ]
  },
  {
   "cell_type": "code",
   "execution_count": 4,
   "id": "c68cb504",
   "metadata": {},
   "outputs": [
    {
     "name": "stdout",
     "output_type": "stream",
     "text": [
      "9 is not exists\n"
     ]
    }
   ],
   "source": [
    "test_list=[1,6,3,5,3,4]\n",
    "#(ii) check 9 is exists or not \n",
    "i=9\n",
    "if i in test_list:\n",
    "    print(\"9 is exists\")\n",
    "else:\n",
    "    print(\"9 is not exists\")"
   ]
  },
  {
   "cell_type": "code",
   "execution_count": 7,
   "id": "2ed294eb",
   "metadata": {},
   "outputs": [
    {
     "name": "stdout",
     "output_type": "stream",
     "text": [
      "Enter a year: 2023\n",
      "Enter a month: 6\n",
      "Enter a day: 28\n",
      "2023-06-28\n"
     ]
    }
   ],
   "source": [
    "#(iii) take a user input to print the current date\n",
    "\n",
    "from datetime import date, datetime\n",
    "\n",
    "\n",
    "year = int(input('Enter a year: '))\n",
    "month = int(input('Enter a month: '))\n",
    "day = int(input('Enter a day: '))\n",
    "\n",
    "d = date(year,month,day)\n",
    "print(d)\n"
   ]
  },
  {
   "cell_type": "code",
   "execution_count": 8,
   "id": "e5ad11cd",
   "metadata": {},
   "outputs": [
    {
     "name": "stdout",
     "output_type": "stream",
     "text": [
      "4\n",
      "1\n"
     ]
    }
   ],
   "source": [
    "#question 4\n",
    "#what is the output of the code \n",
    "print(9//2)\n",
    "print(9%2)"
   ]
  },
  {
   "cell_type": "code",
   "execution_count": 9,
   "id": "1a8ca85a",
   "metadata": {},
   "outputs": [
    {
     "name": "stdout",
     "output_type": "stream",
     "text": [
      "1\n",
      "2\n",
      "3\n",
      "4\n",
      "5\n",
      "6\n",
      "7\n",
      "8\n",
      "9\n",
      "10\n"
     ]
    }
   ],
   "source": [
    "#question 5\n",
    "i=0\n",
    "while i<10:\n",
    "   i=i+1\n",
    "   print(i)"
   ]
  },
  {
   "cell_type": "code",
   "execution_count": 10,
   "id": "54b61922",
   "metadata": {},
   "outputs": [
    {
     "name": "stdout",
     "output_type": "stream",
     "text": [
      "enter the number11\n",
      "The sum is 66\n"
     ]
    }
   ],
   "source": [
    "# question 6\n",
    "num=int(input(\"enter the number\"))\n",
    "if num < 0:\n",
    "   print(\"Enter a positive number\")\n",
    "else:\n",
    "   sum = 0\n",
    "   # use while loop to iterate until zero\n",
    "   while(num > 0):\n",
    "       sum += num\n",
    "       num -= 1\n",
    "   print(\"The sum is\", sum)\n"
   ]
  },
  {
   "cell_type": "code",
   "execution_count": 11,
   "id": "d45c891d",
   "metadata": {},
   "outputs": [
    {
     "name": "stdout",
     "output_type": "stream",
     "text": [
      "fizzbuzz\n",
      "1\n",
      "2\n",
      "fizz\n",
      "4\n",
      "buzz\n",
      "fizz\n",
      "7\n",
      "8\n",
      "fizz\n",
      "buzz\n",
      "11\n",
      "fizz\n",
      "13\n",
      "14\n",
      "fizzbuzz\n",
      "16\n",
      "17\n",
      "fizz\n",
      "19\n",
      "buzz\n",
      "fizz\n",
      "22\n",
      "23\n",
      "fizz\n",
      "buzz\n",
      "26\n",
      "fizz\n",
      "28\n",
      "29\n",
      "fizzbuzz\n",
      "31\n",
      "32\n",
      "fizz\n",
      "34\n",
      "buzz\n",
      "fizz\n",
      "37\n",
      "38\n",
      "fizz\n",
      "buzz\n",
      "41\n",
      "fizz\n",
      "43\n",
      "44\n",
      "fizzbuzz\n",
      "46\n",
      "47\n",
      "fizz\n",
      "49\n",
      "buzz\n"
     ]
    }
   ],
   "source": [
    "#question 7\n",
    "for fizzbuzz in range(51):\n",
    " if fizzbuzz % 3 == 0 and fizzbuzz % 5 == 0:\n",
    "    print(\"fizzbuzz\")\n",
    "    continue\n",
    " elif fizzbuzz % 3 == 0:\n",
    "    print(\"fizz\")\n",
    "    continue\n",
    " elif fizzbuzz % 5 == 0:\n",
    "    print(\"buzz\")\n",
    "    continue\n",
    " print(fizzbuzz)"
   ]
  },
  {
   "cell_type": "code",
   "execution_count": null,
   "id": "ece004b0",
   "metadata": {},
   "outputs": [],
   "source": []
  }
 ],
 "metadata": {
  "kernelspec": {
   "display_name": "Python 3 (ipykernel)",
   "language": "python",
   "name": "python3"
  },
  "language_info": {
   "codemirror_mode": {
    "name": "ipython",
    "version": 3
   },
   "file_extension": ".py",
   "mimetype": "text/x-python",
   "name": "python",
   "nbconvert_exporter": "python",
   "pygments_lexer": "ipython3",
   "version": "3.9.13"
  }
 },
 "nbformat": 4,
 "nbformat_minor": 5
}
